{
 "cells": [
  {
   "cell_type": "code",
   "execution_count": 1,
   "metadata": {},
   "outputs": [],
   "source": [
    "import torch\n",
    "import torch.nn as nn\n",
    "import torch.nn.functional as F\n",
    "import torch.optim as optim\n",
    "from torchvision import datasets, transforms\n",
    "from torch.autograd import Variable\n",
    "import torch.autograd as autograd\n",
    "import torchvision\n",
    "from google.protobuf import text_format\n",
    "import onnx\n",
    "import numpy as np\n",
    "import os\n",
    "from onnx_tf.backend import run_model\n",
    "from matplotlib import pyplot as plt\n",
    "%matplotlib inline\n",
    "# https://www.cs.toronto.edu/~kriz/cifar.html"
   ]
  },
  {
   "cell_type": "code",
   "execution_count": 2,
   "metadata": {},
   "outputs": [],
   "source": [
    "class Net(nn.Module):\n",
    "    def __init__(self):\n",
    "        super(Net, self).__init__()\n",
    "        self.conv1 = nn.Conv2d(3, 10, kernel_size=3, stride=2)\n",
    "        self.conv2 = nn.Conv2d(10, 20, kernel_size=5, stride=2)\n",
    "        self.fc1 = nn.Linear(720, 10)\n",
    "\n",
    "    def forward(self, x):\n",
    "        x = F.relu(self.conv1(x))\n",
    "        x = F.relu(self.conv2(x))\n",
    "        x = x.view(-1, 720)\n",
    "        x = F.relu(self.fc1(x))\n",
    "        return F.softmax(x, dim=1)"
   ]
  },
  {
   "cell_type": "code",
   "execution_count": 4,
   "metadata": {},
   "outputs": [
    {
     "name": "stdout",
     "output_type": "stream",
     "text": [
      "Files already downloaded and verified\n",
      "[1,  2000] loss: 2.302\n",
      "[1,  4000] loss: 2.282\n",
      "[1,  6000] loss: 2.213\n",
      "[1,  8000] loss: 2.179\n",
      "[1, 10000] loss: 2.160\n",
      "[1, 12000] loss: 2.147\n",
      "graph(%1 : Float(1, 3, 32, 32)\n",
      "      %2 : Float(10, 3, 3, 3)\n",
      "      %3 : Float(10)\n",
      "      %4 : Float(20, 10, 5, 5)\n",
      "      %5 : Float(20)\n",
      "      %6 : Float(10, 720)\n",
      "      %7 : Float(10)) {\n",
      "  %9 : UNKNOWN_TYPE = Conv[kernel_shape=[3, 3], strides=[2, 2], pads=[0, 0, 0, 0], dilations=[1, 1], group=1](%1, %2), uses = [[%10.i0]];\n",
      "  %10 : Float(1, 10, 15, 15) = Add[broadcast=1, axis=1](%9, %3), uses = [%11.i0];\n",
      "  %11 : Float(1, 10, 15, 15) = Relu(%10), uses = [%12.i0];\n",
      "  %13 : UNKNOWN_TYPE = Conv[kernel_shape=[5, 5], strides=[2, 2], pads=[0, 0, 0, 0], dilations=[1, 1], group=1](%11, %4), uses = [[%14.i0]];\n",
      "  %14 : Float(1, 20, 6, 6) = Add[broadcast=1, axis=1](%13, %5), uses = [%15.i0];\n",
      "  %15 : Float(1, 20, 6, 6) = Relu(%14), uses = [%16.i0];\n",
      "  %16 : Float(1, 720) = Reshape[shape=[-1, 720]](%15), uses = [%19.i0];\n",
      "  %19 : Float(1, 10) = Gemm[alpha=1, beta=1, broadcast=1, transB=1](%16, %6, %7), uses = [%20.i0];\n",
      "  %20 : Float(1, 10) = Relu(%19), uses = [%21.i0];\n",
      "  %21 : Float(1, 10) = Softmax[axis=1](%20), uses = [%0.i0];\n",
      "  return (%21);\n",
      "}\n",
      "\n"
     ]
    }
   ],
   "source": [
    "model = Net()\n",
    "\n",
    "criterion = nn.CrossEntropyLoss()\n",
    "optimizer = optim.SGD(model.parameters(), lr=0.001, momentum=0.9)\n",
    "\n",
    "trainset = torchvision.datasets.CIFAR10(root='./data', train=True,\n",
    "                                        download=True,\n",
    "                                        transform=transforms.Compose([\n",
    "                                            transforms.ToTensor(),\n",
    "                                            transforms.Normalize((0.1307,), (0.3081,))\n",
    "                                        ]))\n",
    "\n",
    "trainloader = torch.utils.data.DataLoader(trainset, batch_size=4,\n",
    "                                          shuffle=True, num_workers=2)\n",
    "\n",
    "for epoch in range(1):  # loop over the dataset multiple times\n",
    "  running_loss = 0.0\n",
    "  for i, data in enumerate(trainloader):\n",
    "\n",
    "    # get the inputs\n",
    "    inputs, labels = data\n",
    "\n",
    "    # wrap them in Variable\n",
    "    inputs, labels = Variable(inputs), Variable(labels)\n",
    "\n",
    "    # zero the parameter gradients\n",
    "    optimizer.zero_grad()\n",
    "\n",
    "    # forward + backward + optimize\n",
    "    outputs = model(inputs)\n",
    "\n",
    "    loss = criterion(outputs, labels)\n",
    "    loss.backward()\n",
    "    optimizer.step()\n",
    "\n",
    "    # print statistics\n",
    "    running_loss += loss.data[0]\n",
    "    if i % 2000 == 1999:  # print every 2000 mini-batches\n",
    "      print('[%d, %5d] loss: %.3f' %\n",
    "            (epoch + 1, i + 1, running_loss / 2000))\n",
    "      running_loss = 0.0\n",
    "dummy_input = Variable(torch.randn(1, 3, 32, 32))\n",
    "torch.onnx.export(model, dummy_input, \"pb/torch_gh.pb\", verbose=True, export_params=True)"
   ]
  },
  {
   "cell_type": "code",
   "execution_count": 5,
   "metadata": {},
   "outputs": [],
   "source": [
    "data = np.random.randn(1, 3, 32, 32).astype(np.float32)"
   ]
  },
  {
   "cell_type": "code",
   "execution_count": 6,
   "metadata": {},
   "outputs": [],
   "source": [
    "img = np.transpose(np.squeeze(data), (1, 2, 0))\n",
    "img = (img - np.min(img)) / (np.max(img) - np.min(img))"
   ]
  },
  {
   "cell_type": "code",
   "execution_count": 7,
   "metadata": {},
   "outputs": [
    {
     "data": {
      "text/plain": [
       "Variable containing:\n",
       " 0.0030  0.0414  0.0502  0.0143  0.0030  0.0038  0.3358  0.5368  0.0030  0.0087\n",
       "[torch.FloatTensor of size 1x10]"
      ]
     },
     "execution_count": 7,
     "metadata": {},
     "output_type": "execute_result"
    }
   ],
   "source": [
    "input = Variable(torch.from_numpy(data))\n",
    "model(input)"
   ]
  },
  {
   "cell_type": "code",
   "execution_count": 8,
   "metadata": {
    "scrolled": true
   },
   "outputs": [
    {
     "name": "stdout",
     "output_type": "stream",
     "text": [
      "Outputs(_0=array([[0.00299857, 0.04143906, 0.0502192 , 0.01425993, 0.00299857,\n",
      "        0.00375744, 0.33577105, 0.5368152 , 0.00299857, 0.00874228]],\n",
      "      dtype=float32))\n"
     ]
    },
    {
     "name": "stderr",
     "output_type": "stream",
     "text": [
      "/Users/wenhao/Projects/onnx-tensorflow/onnx_tf/backend.py:643: UserWarning: Unsupported kernel_shape attribute by Tensorflow in Conv operator. The attribute will be ignored.\n",
      "  UserWarning)\n"
     ]
    }
   ],
   "source": [
    "with open(os.path.join('pb/torch_gh.pb'), \"rb\") as f:\n",
    "    test = onnx.load(f)\n",
    "    # data = np.transpose(data, (0, 2, 3, 1))\n",
    "    rs_onnx = run_model(test, [data])\n",
    "    print(rs_onnx)"
   ]
  },
  {
   "cell_type": "code",
   "execution_count": 9,
   "metadata": {
    "scrolled": true
   },
   "outputs": [
    {
     "data": {
      "text/plain": [
       "<matplotlib.image.AxesImage at 0x11ff4e2b0>"
      ]
     },
     "execution_count": 9,
     "metadata": {},
     "output_type": "execute_result"
    },
    {
     "data": {
      "image/png": "[encoded data removed]",
      "text/plain": [
       "<matplotlib.figure.Figure at 0x107c31080>"
      ]
     },
     "metadata": {},
     "output_type": "display_data"
    }
   ],
   "source": [
    "plt.imshow(img)"
   ]
  }
 ],
 "metadata": {
  "kernelspec": {
   "display_name": "Python 3",
   "language": "python",
   "name": "python3"
  },
  "language_info": {
   "codemirror_mode": {
    "name": "ipython",
    "version": 3
   },
   "file_extension": ".py",
   "mimetype": "text/x-python",
   "name": "python",
   "nbconvert_exporter": "python",
   "pygments_lexer": "ipython3",
   "version": "3.6.4"
  }
 },
 "nbformat": 4,
 "nbformat_minor": 2
}
