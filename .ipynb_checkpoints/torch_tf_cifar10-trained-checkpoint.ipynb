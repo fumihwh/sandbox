{
 "cells": [
  {
   "cell_type": "code",
   "execution_count": 22,
   "metadata": {},
   "outputs": [],
   "source": [
    "import torch\n",
    "import torch.nn as nn\n",
    "import torch.nn.functional as F\n",
    "import torch.optim as optim\n",
    "from torchvision import datasets, transforms\n",
    "from torch.autograd import Variable\n",
    "import torch.autograd as autograd\n",
    "import torchvision\n",
    "from google.protobuf import text_format\n",
    "import onnx\n",
    "import numpy as np\n",
    "import os\n",
    "from onnx_tf.backend import run_model\n",
    "from matplotlib import pyplot as plt"
   ]
  },
  {
   "cell_type": "code",
   "execution_count": 12,
   "metadata": {},
   "outputs": [],
   "source": [
    "class Net(nn.Module):\n",
    "    def __init__(self):\n",
    "        super(Net, self).__init__()\n",
    "        self.conv1 = nn.Conv2d(3, 10, kernel_size=3, stride=2)\n",
    "        self.conv2 = nn.Conv2d(10, 20, kernel_size=5, stride=2)\n",
    "        self.fc1 = nn.Linear(720, 10)\n",
    "\n",
    "    def forward(self, x):\n",
    "        x = F.relu(self.conv1(x))\n",
    "        x = F.relu(self.conv2(x))\n",
    "        x = x.view(-1, 720)\n",
    "        x = F.relu(self.fc1(x))\n",
    "        return F.softmax(x, dim=1)"
   ]
  },
  {
   "cell_type": "code",
   "execution_count": 13,
   "metadata": {},
   "outputs": [
    {
     "name": "stdout",
     "output_type": "stream",
     "text": [
      "graph(%0 : Float(1, 3, 32, 32)\n",
      "      %1 : Float(10, 3, 3, 3)\n",
      "      %2 : Float(10)\n",
      "      %3 : Float(20, 10, 5, 5)\n",
      "      %4 : Float(20)\n",
      "      %5 : Float(10, 720)\n",
      "      %6 : Float(10)) {\n",
      "  %7 : Float(1, 10, 15, 15) = Conv[dilations=[1, 1], group=1, kernel_shape=[3, 3], pads=[0, 0, 0, 0], strides=[2, 2]](%0, %1, %2), scope: Net/Conv2d[conv1]\n",
      "  %8 : Float(1, 10, 15, 15) = Relu(%7), scope: Net\n",
      "  %9 : Float(1, 20, 6, 6) = Conv[dilations=[1, 1], group=1, kernel_shape=[5, 5], pads=[0, 0, 0, 0], strides=[2, 2]](%8, %3, %4), scope: Net/Conv2d[conv2]\n",
      "  %10 : Float(1, 20, 6, 6) = Relu(%9), scope: Net\n",
      "  %11 : Float(1, 720) = Reshape[shape=[-1, 720]](%10), scope: Net\n",
      "  %12 : Float(1, 10) = Gemm[alpha=1, beta=1, broadcast=1, transB=1](%11, %5, %6), scope: Net/Linear[fc1]\n",
      "  %13 : Float(1, 10) = Relu(%12), scope: Net\n",
      "  %14 : Float(1, 10) = Softmax[axis=1](%13), scope: Net\n",
      "  return (%14);\n",
      "}\n",
      "\n"
     ]
    }
   ],
   "source": [
    "model = Net()\n",
    "dummy_input = Variable(torch.randn(1, 3, 32, 32))\n",
    "torch.onnx.export(model, dummy_input, \"pb/torch_gh.pb\", verbose=True, export_params=True)"
   ]
  },
  {
   "cell_type": "code",
   "execution_count": 45,
   "metadata": {},
   "outputs": [],
   "source": [
    "data = np.random.randn(1, 3, 32, 32).astype(np.float32)"
   ]
  },
  {
   "cell_type": "code",
   "execution_count": 46,
   "metadata": {},
   "outputs": [],
   "source": [
    "img = np.transpose(np.squeeze(data), (1, 2, 0))\n",
    "img = (img - np.min(img)) / (np.max(img) - np.min(img))"
   ]
  },
  {
   "cell_type": "code",
   "execution_count": 47,
   "metadata": {},
   "outputs": [
    {
     "data": {
      "text/plain": [
       "<matplotlib.image.AxesImage at 0x138fb8780>"
      ]
     },
     "execution_count": 47,
     "metadata": {},
     "output_type": "execute_result"
    },
    {
     "data": {
      "image/png": "[encoded data removed]",
      "text/plain": [
       "<matplotlib.figure.Figure at 0x138e3ed68>"
      ]
     },
     "metadata": {},
     "output_type": "display_data"
    }
   ],
   "source": [
    "plt.imshow(img)"
   ]
  },
  {
   "cell_type": "code",
   "execution_count": 48,
   "metadata": {},
   "outputs": [
    {
     "data": {
      "text/plain": [
       "\n",
       " 0.0217  0.0217  0.0217  0.1278  0.3326  0.0217  0.3712  0.0217  0.0217  0.0379\n",
       "[torch.FloatTensor of size (1,10)]"
      ]
     },
     "execution_count": 48,
     "metadata": {},
     "output_type": "execute_result"
    }
   ],
   "source": [
    "input = Variable(torch.from_numpy(data))\n",
    "model(input)"
   ]
  },
  {
   "cell_type": "code",
   "execution_count": 49,
   "metadata": {
    "scrolled": true
   },
   "outputs": [
    {
     "name": "stderr",
     "output_type": "stream",
     "text": [
      "/Users/wenhao/Projects/onnx-tensorflow/onnx_tf/backend.py:708: UserWarning: Unsupported kernel_shape attribute by Tensorflow in Conv operator. The attribute will be ignored.\n",
      "  UserWarning)\n"
     ]
    },
    {
     "name": "stdout",
     "output_type": "stream",
     "text": [
      "Outputs(_0=array([[0.02174817, 0.02174817, 0.02174817, 0.1278409 , 0.33256865,\n",
      "        0.02174817, 0.37121472, 0.02174817, 0.02174817, 0.03788668]],\n",
      "      dtype=float32))\n"
     ]
    }
   ],
   "source": [
    "with open(os.path.join('pb/torch_gh.pb'), \"rb\") as f:\n",
    "    test = onnx.load(f)\n",
    "    # data = np.transpose(data, (0, 2, 3, 1))\n",
    "    rs_onnx = run_model(test, [data])\n",
    "    print(rs_onnx)"
   ]
  },
  {
   "cell_type": "code",
   "execution_count": null,
   "metadata": {},
   "outputs": [],
   "source": []
  },
  {
   "cell_type": "code",
   "execution_count": 17,
   "metadata": {},
   "outputs": [
    {
     "name": "stdout",
     "output_type": "stream",
     "text": [
      "Downloading https://www.cs.toronto.edu/~kriz/cifar-10-python.tar.gz to ./data/cifar-10-python.tar.gz\n",
      "Failed download. Trying https -> http instead. Downloading http://www.cs.toronto.edu/~kriz/cifar-10-python.tar.gz to ./data/cifar-10-python.tar.gz\n"
     ]
    },
    {
     "name": "stderr",
     "output_type": "stream",
     "text": [
      "/Users/wenhao/.virtualenvs/ml_py3.6/lib/python3.6/site-packages/ipykernel_launcher.py:37: UserWarning: invalid index of a 0-dim tensor. This will be an error in PyTorch 0.5. Use tensor.item() to convert a 0-dim tensor to a Python number\n"
     ]
    },
    {
     "name": "stdout",
     "output_type": "stream",
     "text": [
      "[1,  2000] loss: 2.300\n",
      "[1,  4000] loss: 2.274\n",
      "[1,  6000] loss: 2.232\n",
      "[1,  8000] loss: 2.219\n",
      "[1, 10000] loss: 2.211\n",
      "[1, 12000] loss: 2.206\n",
      "graph(%0 : Float(1, 3, 32, 32)\n",
      "      %1 : Float(10, 3, 3, 3)\n",
      "      %2 : Float(10)\n",
      "      %3 : Float(20, 10, 5, 5)\n",
      "      %4 : Float(20)\n",
      "      %5 : Float(10, 720)\n",
      "      %6 : Float(10)) {\n",
      "  %7 : Float(1, 10, 15, 15) = Conv[dilations=[1, 1], group=1, kernel_shape=[3, 3], pads=[0, 0, 0, 0], strides=[2, 2]](%0, %1, %2), scope: Net/Conv2d[conv1]\n",
      "  %8 : Float(1, 10, 15, 15) = Relu(%7), scope: Net\n",
      "  %9 : Float(1, 20, 6, 6) = Conv[dilations=[1, 1], group=1, kernel_shape=[5, 5], pads=[0, 0, 0, 0], strides=[2, 2]](%8, %3, %4), scope: Net/Conv2d[conv2]\n",
      "  %10 : Float(1, 20, 6, 6) = Relu(%9), scope: Net\n",
      "  %11 : Float(1, 720) = Reshape[shape=[-1, 720]](%10), scope: Net\n",
      "  %12 : Float(1, 10) = Gemm[alpha=1, beta=1, broadcast=1, transB=1](%11, %5, %6), scope: Net/Linear[fc1]\n",
      "  %13 : Float(1, 10) = Relu(%12), scope: Net\n",
      "  %14 : Float(1, 10) = Softmax[axis=1](%13), scope: Net\n",
      "  return (%14);\n",
      "}\n",
      "\n"
     ]
    }
   ],
   "source": [
    "model = Net()\n",
    "\n",
    "criterion = nn.CrossEntropyLoss()\n",
    "optimizer = optim.SGD(model.parameters(), lr=0.001, momentum=0.9)\n",
    "\n",
    "trainset = torchvision.datasets.CIFAR10(root='./data', train=True,\n",
    "                                        download=True,\n",
    "                                        transform=transforms.Compose([\n",
    "                                            transforms.ToTensor(),\n",
    "                                            transforms.Normalize((0.1307,), (0.3081,))\n",
    "                                        ]))\n",
    "\n",
    "trainloader = torch.utils.data.DataLoader(trainset, batch_size=4,\n",
    "                                          shuffle=True, num_workers=2)\n",
    "\n",
    "for epoch in range(1):  # loop over the dataset multiple times\n",
    "  running_loss = 0.0\n",
    "  for i, data in enumerate(trainloader):\n",
    "\n",
    "    # get the inputs\n",
    "    inputs, labels = data\n",
    "\n",
    "    # wrap them in Variable\n",
    "    inputs, labels = Variable(inputs), Variable(labels)\n",
    "\n",
    "    # zero the parameter gradients\n",
    "    optimizer.zero_grad()\n",
    "\n",
    "    # forward + backward + optimize\n",
    "    outputs = model(inputs)\n",
    "\n",
    "    loss = criterion(outputs, labels)\n",
    "    loss.backward()\n",
    "    optimizer.step()\n",
    "\n",
    "    # print statistics\n",
    "    running_loss += loss.data[0]\n",
    "    if i % 2000 == 1999:  # print every 2000 mini-batches\n",
    "      print('[%d, %5d] loss: %.3f' %\n",
    "            (epoch + 1, i + 1, running_loss / 2000))\n",
    "      running_loss = 0.0\n",
    "torch.onnx.export(model, dummy_input, \"pb/torch_gh.pb\", verbose=True, export_params=True)"
   ]
  },
  {
   "cell_type": "code",
   "execution_count": null,
   "metadata": {},
   "outputs": [],
   "source": []
  }
 ],
 "metadata": {
  "kernelspec": {
   "display_name": "Python 3",
   "language": "python",
   "name": "python3"
  },
  "language_info": {
   "codemirror_mode": {
    "name": "ipython",
    "version": 3
   },
   "file_extension": ".py",
   "mimetype": "text/x-python",
   "name": "python",
   "nbconvert_exporter": "python",
   "pygments_lexer": "ipython3",
   "version": "3.6.2"
  }
 },
 "nbformat": 4,
 "nbformat_minor": 2
}
